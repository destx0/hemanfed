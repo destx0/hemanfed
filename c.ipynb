{
 "cells": [
  {
   "cell_type": "code",
   "execution_count": null,
   "metadata": {},
   "outputs": [],
   "source": [
    "input = [4, 1, 6, None, None, None, 8, None, 9]"
   ]
  },
  {
   "cell_type": "code",
   "execution_count": null,
   "metadata": {},
   "outputs": [],
   "source": [
    "class Node:\n",
    "    def __init__(self , x) \n",
    "        pass\n",
    "    self.val = x"
   ]
  },
  {
   "cell_type": "code",
   "execution_count": 1,
   "metadata": {},
   "outputs": [
    {
     "name": "stdout",
     "output_type": "stream",
     "text": [
      "(4) -- left --> (1)\n",
      "(4) -- right --> (6)\n",
      "(6) -- right --> (8)\n"
     ]
    }
   ],
   "source": [
    "class GraphNode:\n",
    "    def __init__(self, value=None):\n",
    "        self.value = value\n",
    "        self.left = None\n",
    "        self.right = None\n",
    "        self.parent = None\n",
    "\n",
    "\n",
    "def create_graph_from_level_order(data):\n",
    "    if not data:\n",
    "        return None\n",
    "\n",
    "    root = GraphNode(data[0])\n",
    "    queue = [(root, 0)]\n",
    "\n",
    "    while queue:\n",
    "        current_node, index = queue.pop(0)\n",
    "        left_index = 2 * index + 1\n",
    "        right_index = 2 * index + 2\n",
    "\n",
    "        # Setting left child\n",
    "        if left_index < len(data) and data[left_index] is not None:\n",
    "            left_child = GraphNode(data[left_index])\n",
    "            left_child.parent = current_node\n",
    "            current_node.left = left_child\n",
    "            queue.append((left_child, left_index))\n",
    "\n",
    "        # Setting right child\n",
    "        if right_index < len(data) and data[right_index] is not None:\n",
    "            right_child = GraphNode(data[right_index])\n",
    "            right_child.parent = current_node\n",
    "            current_node.right = right_child\n",
    "            queue.append((right_child, right_index))\n",
    "\n",
    "    return root\n",
    "\n",
    "\n",
    "def print_edges(node):\n",
    "    if node is not None:\n",
    "        if node.left:\n",
    "            print(f\"({node.value}) -- left --> ({node.left.value})\")\n",
    "            print_edges(node.left)\n",
    "        if node.right:\n",
    "            print(f\"({node.value}) -- right --> ({node.right.value})\")\n",
    "            print_edges(node.right)\n",
    "\n",
    "\n",
    "# Example usage:\n",
    "data = [4, 1, 6, None, None, None, 8, None, 9]\n",
    "root = create_graph_from_level_order(data)\n",
    "print_edges(root)"
   ]
  },
  {
   "cell_type": "code",
   "execution_count": 2,
   "metadata": {},
   "outputs": [
    {
     "name": "stdout",
     "output_type": "stream",
     "text": [
      "(4) -- left --> (1)\n",
      "(4) -- right --> (6)\n",
      "(6) -- right --> (8)\n"
     ]
    }
   ],
   "source": [
    "from collections import deque\n",
    "class GraphNode:\n",
    "    def __init__(self, value=None):\n",
    "        self.value = value\n",
    "        self.left = None\n",
    "        self.right = None\n",
    "        self.parent = None\n",
    "\n",
    "\n",
    "def create_graph_from_level_order(data):\n",
    "    if not data:\n",
    "        return None\n",
    "\n",
    "    nodes = [None if value is None else GraphNode(value) for value in data]\n",
    "    root = nodes[0]\n",
    "    q = deque([root])\n",
    "    \n",
    "    for index in range(len(nodes)):\n",
    "        node = nodes[index]\n",
    "        if node is not None:\n",
    "            left_index = 2 * index + 1\n",
    "            right_index = 2 * index + 2\n",
    "\n",
    "            # Setting left child\n",
    "            if left_index < len(data) and nodes[left_index] is not None:\n",
    "                node.left = nodes[left_index]\n",
    "                node.left.parent = node\n",
    "\n",
    "            # Setting right child\n",
    "            if right_index < len(data) and nodes[right_index] is not None:\n",
    "                node.right = nodes[right_index]\n",
    "                node.right.parent = node\n",
    "\n",
    "    return root\n",
    "\n",
    "\n",
    "def print_edges(node):\n",
    "    if node:\n",
    "        if node.left:\n",
    "            print(f\"({node.value}) -- left --> ({node.left.value})\")\n",
    "            print_edges(node.left)\n",
    "        if node.right:\n",
    "            print(f\"({node.value}) -- right --> ({node.right.value})\")\n",
    "            print_edges(node.right)\n",
    "\n",
    "\n",
    "# Example usage:\n",
    "data = [4, 1, 6, None, None, None, 8, None, 9]\n",
    "root = create_graph_from_level_order(data)\n",
    "print_edges(root)"
   ]
  },
  {
   "cell_type": "code",
   "execution_count": 7,
   "metadata": {},
   "outputs": [
    {
     "name": "stdout",
     "output_type": "stream",
     "text": [
      "Edge: 4 <-> 1\n",
      "Edge: 4 <-> 6\n",
      "Edge: 6 <-> 8\n",
      "Edge: 8 <-> 9\n"
     ]
    }
   ],
   "source": [
    "class TreeNode:\n",
    "    def __init__(self, val=0, left=None, right=None, parent=None):\n",
    "        self.val = val\n",
    "        self.left = left\n",
    "        self.right = right\n",
    "        self.parent = parent\n",
    "\n",
    "\n",
    "def buildTree(level_order):\n",
    "    if not level_order:\n",
    "        return None\n",
    "\n",
    "    root = TreeNode(level_order[0])\n",
    "    queue = [root]\n",
    "    i = 1\n",
    "\n",
    "    while queue:\n",
    "        node = queue.pop(0)\n",
    "\n",
    "        if i < len(level_order):\n",
    "            if level_order[i] is not None:\n",
    "                node.left = TreeNode(level_order[i], parent=node)\n",
    "                queue.append(node.left)\n",
    "                print(f\"Edge: {node.val} <-> {node.left.val}\")\n",
    "            i += 1\n",
    "\n",
    "        if i < len(level_order):\n",
    "            if level_order[i] is not None:\n",
    "                node.right = TreeNode(level_order[i], parent=node)\n",
    "                queue.append(node.right)\n",
    "                print(f\"Edge: {node.val} <-> {node.right.val}\")\n",
    "            i += 1\n",
    "\n",
    "    return root\n",
    "\n",
    "\n",
    "# Example usage\n",
    "level_order = [4, 1, 6, None, None, None, 8, None, 9]\n",
    "root = buildTree(level_order)"
   ]
  },
  {
   "cell_type": "code",
   "execution_count": 4,
   "metadata": {},
   "outputs": [],
   "source": [
    "level_order = [1, 2, 3, None, 4, 5, None]\n",
    "root = buildTree(level_order)"
   ]
  },
  {
   "cell_type": "code",
   "execution_count": 9,
   "metadata": {},
   "outputs": [
    {
     "name": "stdout",
     "output_type": "stream",
     "text": [
      "Number of ways to decode the message: 0\n"
     ]
    }
   ],
   "source": [
    "\n",
    "encoded = \"a\"\n",
    "totalWays = 0\n",
    "for i in range(len(encoded)):\n",
    "    if encoded[i].isdigit() and encoded[i] != '0':\n",
    "        totalWays += 1\n",
    "    if encoded[i] == '*':\n",
    "        totalWays += 9\n",
    "    if i < len(encoded) - 1:\n",
    "        if encoded[i] == '1' and encoded[i+1].isdigit():\n",
    "            totalWays += 1\n",
    "        if encoded[i] == '2' and encoded[i+1].isdigit() and encoded[i+1] <= '6':\n",
    "            totalWays += 1\n",
    "        if encoded[i] == '*' and encoded[i+1] == '*':\n",
    "            totalWays += 15\n",
    "        elif encoded[i] == '*' and encoded[i+1].isdigit():\n",
    "            if encoded[i+1] <= '6':\n",
    "                totalWays += 2\n",
    "            else:\n",
    "                totalWays += 1\n",
    "        elif encoded[i].isdigit() and encoded[i+1] == '*':\n",
    "            if encoded[i] == '1':\n",
    "                totalWays += 9\n",
    "            elif encoded[i] == '2': \n",
    "                totalWays += 6\n",
    "print(f\"Number of ways to decode the message: {totalWays}\")"
   ]
  },
  {
   "cell_type": "code",
   "execution_count": 10,
   "metadata": {},
   "outputs": [
    {
     "name": "stdout",
     "output_type": "stream",
     "text": [
      "a#heyi#u\n"
     ]
    }
   ],
   "source": [
    "def modify_string(n, s):\n",
    "    vowels = {\"a\", \"e\", \"i\", \"o\", \"u\"}\n",
    "    modified = []\n",
    "    i = 0\n",
    "    while i < n:\n",
    "        modified.append(s[i])\n",
    "        if i < n - 1 and s[i] in vowels and s[i + 1] in vowels:\n",
    "            modified.append(\"#\")\n",
    "            i += 1\n",
    "        i += 1\n",
    "    return \"\".join(modified)\n",
    "\n",
    "\n",
    "# Input\n",
    "n = int(input())\n",
    "s = input()\n",
    "\n",
    "# Output\n",
    "print(modify_string(n, s))"
   ]
  },
  {
   "cell_type": "code",
   "execution_count": 12,
   "metadata": {},
   "outputs": [
    {
     "name": "stdout",
     "output_type": "stream",
     "text": [
      "2\n"
     ]
    }
   ],
   "source": [
    "# Take input as a string\n",
    "encoded_string = input()\n",
    "\n",
    "if not encoded_string or encoded_string[0] == \"0\":\n",
    "    print(0)\n",
    "else:\n",
    "    n = len(encoded_string)\n",
    "    dp = [0] * (n + 1)\n",
    "    dp[0] = 1\n",
    "    dp[1] = 1\n",
    "\n",
    "    for i in range(2, n + 1):\n",
    "        one_digit = int(encoded_string[i - 1])\n",
    "        two_digits = int(encoded_string[i - 2 : i])\n",
    "\n",
    "        if one_digit != 0:\n",
    "            dp[i] += dp[i - 1]\n",
    "\n",
    "        if 10 <= two_digits <= 26:\n",
    "            dp[i] += dp[i - 2]\n",
    "\n",
    "    print(dp[n])"
   ]
  },
  {
   "cell_type": "code",
   "execution_count": null,
   "metadata": {},
   "outputs": [],
   "source": [
    "from collections import defaultdict\n",
    "s = input()\n",
    "d = defaultdict(int)\n",
    "for i in range(1,27): d[str(i)] = 1\n",
    "for i in range(10): d[\"*\"+str(i)] = 1 + (i< 7)\n",
    "d['*'], d['**'], d['1*'], d['2*']  = 9,15,9,6\n",
    "\n",
    "n, M = len(s)-1, 10**9+7\n",
    "dp = [d[s[0]]] + [0]*n + [1]\n",
    "\n",
    "for i in range(n):\n",
    "    one, two = s[i+1], s[i]+s[i+1]\n",
    "\n",
    "    dp[i+1] = (d[one] * dp[i  ] + \n",
    "                d[two] * dp[i-1])%M\n",
    "    if not dp[i+1]: print(0); break\n",
    "    \n",
    "print(dp[-2])\n"
   ]
  },
  {
   "cell_type": "code",
   "execution_count": 5,
   "metadata": {},
   "outputs": [
    {
     "name": "stdout",
     "output_type": "stream",
     "text": [
      "18\n"
     ]
    }
   ],
   "source": [
    "from collections import defaultdict\n",
    "\n",
    "s = input()\n",
    "d = defaultdict(int)\n",
    "for i in range(1, 27):\n",
    "    d[str(i)] = 1\n",
    "for i in range(10):\n",
    "    d[\"*\" + str(i)] = 1 + (i < 7)\n",
    "d[\"*\"], d[\"**\"], d[\"1*\"], d[\"2*\"] = 9, 15, 9, 6\n",
    "\n",
    "n, M = len(s) - 1, 10**9 + 7\n",
    "dp = [d[s[0]]] + [0] * n + [1]\n",
    "\n",
    "result = 0\n",
    "for i in range(n):\n",
    "    one, two = s[i + 1], s[i] + s[i + 1]\n",
    "    dp[i + 1] = (d[one] * dp[i] + d[two] * dp[i - 1]) % M\n",
    "    if not dp[i + 1]:\n",
    "        result = 0\n",
    "        break\n",
    "else:\n",
    "    result = dp[-2]\n",
    "\n",
    "print(result)"
   ]
  },
  {
   "cell_type": "code",
   "execution_count": 3,
   "metadata": {},
   "outputs": [
    {
     "name": "stdout",
     "output_type": "stream",
     "text": [
      "1 0 3 0 0 3 3 2 2 0 0\n"
     ]
    }
   ],
   "source": [
    "# Read the input\n",
    "N = int(input().strip())\n",
    "holes = list(map(int, input().strip().split()))\n",
    "Q = int(input().strip())\n",
    "balls = list(map(int, input().strip().split()))\n",
    "\n",
    "# Array of zero equal to length of holes array\n",
    "# to store the no. of balls in the hole\n",
    "depth = [0 for i in range(len(holes))]\n",
    "\n",
    "# Stores the positions of balls\n",
    "positions = []\n",
    "\n",
    "# Iterate through balls array\n",
    "# and holes array in reverse order.\n",
    "for i in balls:\n",
    "    # Initialize flag equal to false\n",
    "    flag = False\n",
    "    for j in reversed(range(len(holes))):\n",
    "        # Check if the diameter of ball is less than the\n",
    "        # diameter of hole and depth is less than the index.\n",
    "        if i <= holes[j] and depth[j] <= j:\n",
    "            # If the condition is true append the position\n",
    "            # for ball in position array and increment depth of hole by 1.\n",
    "            positions.append(j + 1)\n",
    "            depth[j] += 1\n",
    "            # Here the ball will fall into the hole\n",
    "            # so make the flag True and break the loop.\n",
    "            flag = True\n",
    "            break\n",
    "    # Check if the ball has reached the bottom\n",
    "    # if the ball reaches bottom flag will remain false\n",
    "    # so then append 0 to the position array.\n",
    "    if flag == False:\n",
    "        positions.append(0)\n",
    "\n",
    "# Print the output\n",
    "print(*positions)"
   ]
  },
  {
   "cell_type": "code",
   "execution_count": null,
   "metadata": {},
   "outputs": [],
   "source": [
    "N = int(input().strip())\n",
    "holes = list(map(int, input().strip().split()))\n",
    "Q = int(input().strip())\n",
    "balls = list(map(int, input().strip().split()))\n",
    "\n",
    "depth = [0 for i in range(len(holes))]\n",
    "\n",
    "positions = []\n",
    "\n",
    "for i in balls:\n",
    "    flag = False\n",
    "    for j in reversed(range(len(holes))):\n",
    "        if i <= holes[j] and depth[j] <= j:\n",
    "            positions.append(j + 1)\n",
    "            depth[j] += 1\n",
    "            flag = True\n",
    "            break\n",
    "    if flag == False:\n",
    "        positions.append(0)\n",
    "\n",
    "print(*positions)"
   ]
  },
  {
   "cell_type": "code",
   "execution_count": 9,
   "metadata": {},
   "outputs": [
    {
     "name": "stdout",
     "output_type": "stream",
     "text": [
      "aa#hae#i\n"
     ]
    }
   ],
   "source": [
    "s = input()\n",
    "v = ['a', 'e', 'i', 'o', 'u']\n",
    "cnt = 2\n",
    "res = []\n",
    "for c in s:\n",
    "    res.append(c)\n",
    "    if c in v:\n",
    "        cnt -= 1\n",
    "        if cnt == 0:\n",
    "            res.append('#')\n",
    "            cnt = 2\n",
    "    else:\n",
    "        cnt = 2\n",
    "print(''.join(res))"
   ]
  },
  {
   "cell_type": "code",
   "execution_count": null,
   "metadata": {},
   "outputs": [],
   "source": []
  }
 ],
 "metadata": {
  "kernelspec": {
   "display_name": "he39",
   "language": "python",
   "name": "python3"
  },
  "language_info": {
   "codemirror_mode": {
    "name": "ipython",
    "version": 3
   },
   "file_extension": ".py",
   "mimetype": "text/x-python",
   "name": "python",
   "nbconvert_exporter": "python",
   "pygments_lexer": "ipython3",
   "version": "3.9.19"
  }
 },
 "nbformat": 4,
 "nbformat_minor": 2
}
