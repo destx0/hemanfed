{
 "cells": [
  {
   "cell_type": "code",
   "execution_count": 2,
   "metadata": {},
   "outputs": [
    {
     "name": "stderr",
     "output_type": "stream",
     "text": [
      "2024-04-25 08:33:22.038029: I tensorflow/tsl/cuda/cudart_stub.cc:28] Could not find cuda drivers on your machine, GPU will not be used.\n",
      "2024-04-25 08:33:22.155463: E tensorflow/compiler/xla/stream_executor/cuda/cuda_dnn.cc:9342] Unable to register cuDNN factory: Attempting to register factory for plugin cuDNN when one has already been registered\n",
      "2024-04-25 08:33:22.155496: E tensorflow/compiler/xla/stream_executor/cuda/cuda_fft.cc:609] Unable to register cuFFT factory: Attempting to register factory for plugin cuFFT when one has already been registered\n",
      "2024-04-25 08:33:22.155884: E tensorflow/compiler/xla/stream_executor/cuda/cuda_blas.cc:1518] Unable to register cuBLAS factory: Attempting to register factory for plugin cuBLAS when one has already been registered\n",
      "2024-04-25 08:33:22.211717: I tensorflow/tsl/cuda/cudart_stub.cc:28] Could not find cuda drivers on your machine, GPU will not be used.\n",
      "2024-04-25 08:33:22.213112: I tensorflow/core/platform/cpu_feature_guard.cc:182] This TensorFlow binary is optimized to use available CPU instructions in performance-critical operations.\n",
      "To enable the following instructions: AVX2 FMA, in other operations, rebuild TensorFlow with the appropriate compiler flags.\n",
      "2024-04-25 08:33:23.246516: W tensorflow/compiler/tf2tensorrt/utils/py_utils.cc:38] TF-TRT Warning: Could not find TensorRT\n"
     ]
    }
   ],
   "source": [
    "import tensorflow as tf\n",
    "\n",
    "# Load the MNIST dataset\n",
    "(x_train, y_train), (x_test, y_test) = tf.keras.datasets.mnist.load_data()"
   ]
  },
  {
   "cell_type": "code",
   "execution_count": 3,
   "metadata": {},
   "outputs": [],
   "source": [
    "clients = [1, 2, 3]"
   ]
  },
  {
   "cell_type": "code",
   "execution_count": 4,
   "metadata": {},
   "outputs": [],
   "source": [
    "import tensorflow as tf\n",
    "import numpy as np\n",
    "\n",
    "# Load the MNIST dataset\n",
    "(x_train_all, y_train_all), (x_test, y_test) = tf.keras.datasets.mnist.load_data()\n",
    "\n",
    "# Preprocess the data\n",
    "x_train = x_train.astype(np.float32) / 255.0\n",
    "x_test = x_test.astype(np.float32) / 255.0"
   ]
  },
  {
   "cell_type": "code",
   "execution_count": 5,
   "metadata": {},
   "outputs": [],
   "source": [
    "from sklearn.model_selection import train_test_split\n",
    "\n",
    "# assume X is your feature data and y is your target data\n",
    "X_train, X_test, y_train, y_test = train_test_split(\n",
    "    x_train_all, y_train_all, test_size=0.2, random_state=42\n",
    ")\n",
    "\n",
    "# split data into n parts\n",
    "n_parts = len(clients)\n",
    "part_size = len(X_train) // n_parts\n",
    "dataset_parts = []\n",
    "for i in range(n_parts):\n",
    "    start = i * part_size\n",
    "    end = (i + 1) * part_size\n",
    "    X_part = X_train[start:end]\n",
    "    y_part = y_train[start:end]\n",
    "    dataset_parts.append((X_part, y_part))"
   ]
  },
  {
   "cell_type": "code",
   "execution_count": 6,
   "metadata": {},
   "outputs": [],
   "source": [
    "def model_init():\n",
    "    model = tf.keras.Sequential(\n",
    "        [\n",
    "            tf.keras.layers.Flatten(input_shape=(28, 28)),\n",
    "            tf.keras.layers.Dense(128, activation=\"relu\"),\n",
    "            tf.keras.layers.Dense(10, activation=\"softmax\"),\n",
    "        ]\n",
    "    )\n",
    "    model.compile(\n",
    "        optimizer=\"adam\", loss=\"sparse_categorical_crossentropy\", metrics=[\"accuracy\"]\n",
    "    )\n",
    "    return model"
   ]
  },
  {
   "cell_type": "code",
   "execution_count": 7,
   "metadata": {},
   "outputs": [
    {
     "name": "stderr",
     "output_type": "stream",
     "text": [
      "2024-04-25 08:33:26.146402: I tensorflow/compiler/xla/stream_executor/cuda/cuda_gpu_executor.cc:894] successful NUMA node read from SysFS had negative value (-1), but there must be at least one NUMA node, so returning NUMA node zero. See more at https://github.com/torvalds/linux/blob/v6.0/Documentation/ABI/testing/sysfs-bus-pci#L344-L355\n",
      "2024-04-25 08:33:26.248892: W tensorflow/core/common_runtime/gpu/gpu_device.cc:2211] Cannot dlopen some GPU libraries. Please make sure the missing libraries mentioned above are installed properly if you would like to use GPU. Follow the guide at https://www.tensorflow.org/install/gpu for how to download and setup the required libraries for your platform.\n",
      "Skipping registering GPU devices...\n"
     ]
    }
   ],
   "source": [
    "models = []\n",
    "for _ in range(len(clients)):\n",
    "    models.append(model_init())"
   ]
  },
  {
   "cell_type": "code",
   "execution_count": 8,
   "metadata": {},
   "outputs": [],
   "source": [
    "import numpy as np\n",
    "from Pyfhel import Pyfhel\n",
    "\n",
    "HE = Pyfhel()  # Creating empty Pyfhel object\n",
    "ckks_params = {\n",
    "    \"scheme\": \"CKKS\",  # can also be 'ckks'\n",
    "    \"n\": 2**14,  # Polynomial modulus degree. For CKKS, n/2 values can be\n",
    "    #  encoded in a single ciphertext.\n",
    "    #  Typ. 2^D for D in [10, 15]\n",
    "    \"scale\": 2**30,  # All the encodings will use it for float->fixed point\n",
    "    #  conversion: x_fix = round(x_float * scale)\n",
    "    #  You can use this as default scale or use a different\n",
    "    #  scale on each operation (set in HE.encryptFrac)\n",
    "    \"qi_sizes\": [60, 30, 30, 30, 60],  # Number of bits of each prime in the chain.\n",
    "    # Intermediate values should be  close to log2(scale)\n",
    "    # for each operation, to have small rounding errors.\n",
    "}\n",
    "HE.contextGen(**ckks_params)  # Generate context for ckks scheme\n",
    "HE.keyGen()  # Key Generation: generates a pair of public/secret keys\n",
    "HE.rotateKeyGen()"
   ]
  },
  {
   "cell_type": "code",
   "execution_count": 14,
   "metadata": {},
   "outputs": [
    {
     "name": "stdout",
     "output_type": "stream",
     "text": [
      "[(784, 128), (128,), (128, 10), (10,)]\n"
     ]
    }
   ],
   "source": [
    "shapedims = [l.shape for l in models[0].get_weights()]\n",
    "print(shapedims)"
   ]
  },
  {
   "cell_type": "code",
   "execution_count": null,
   "metadata": {},
   "outputs": [],
   "source": [
    "# cwts[model][layer][chunk]"
   ]
  },
  {
   "cell_type": "code",
   "execution_count": 34,
   "metadata": {},
   "outputs": [
    {
     "name": "stdout",
     "output_type": "stream",
     "text": [
      "Epoch 1/5\n",
      "500/500 [==============================] - 1s 1ms/step - loss: 0.2027 - accuracy: 0.9524\n",
      "Epoch 2/5\n",
      "500/500 [==============================] - 1s 1ms/step - loss: 0.2158 - accuracy: 0.9493\n",
      "Epoch 3/5\n",
      "500/500 [==============================] - 1s 1ms/step - loss: 0.2147 - accuracy: 0.9514\n",
      "Epoch 4/5\n",
      "500/500 [==============================] - 1s 1ms/step - loss: 0.1697 - accuracy: 0.9578\n",
      "Epoch 5/5\n",
      "500/500 [==============================] - 1s 1ms/step - loss: 0.1762 - accuracy: 0.9567\n",
      "98\n",
      "98\n",
      "1\n",
      "1\n",
      "2\n",
      "2\n",
      "1\n",
      "1\n",
      "Epoch 1/5\n",
      "500/500 [==============================] - 1s 1ms/step - loss: 0.2172 - accuracy: 0.9505\n",
      "Epoch 2/5\n",
      "500/500 [==============================] - 1s 1ms/step - loss: 0.2001 - accuracy: 0.9509\n",
      "Epoch 3/5\n",
      "500/500 [==============================] - 1s 1ms/step - loss: 0.1802 - accuracy: 0.9560\n",
      "Epoch 4/5\n",
      "500/500 [==============================] - 1s 1ms/step - loss: 0.1688 - accuracy: 0.9567\n",
      "Epoch 5/5\n",
      "500/500 [==============================] - 1s 1ms/step - loss: 0.1893 - accuracy: 0.9537\n",
      "98\n",
      "98\n",
      "1\n",
      "1\n",
      "2\n",
      "2\n",
      "1\n",
      "1\n",
      "Epoch 1/5\n",
      "500/500 [==============================] - 1s 1ms/step - loss: 0.2547 - accuracy: 0.9529\n",
      "Epoch 2/5\n",
      "500/500 [==============================] - 1s 1ms/step - loss: 0.2116 - accuracy: 0.9554\n",
      "Epoch 3/5\n",
      "500/500 [==============================] - 1s 1ms/step - loss: 0.1854 - accuracy: 0.9569\n",
      "Epoch 4/5\n",
      "500/500 [==============================] - 1s 1ms/step - loss: 0.2084 - accuracy: 0.9574\n",
      "Epoch 5/5\n",
      "500/500 [==============================] - 1s 1ms/step - loss: 0.1760 - accuracy: 0.9617\n",
      "98\n",
      "98\n",
      "1\n",
      "1\n",
      "2\n",
      "2\n",
      "1\n",
      "1\n"
     ]
    }
   ],
   "source": [
    "cwts = []\n",
    "for model, dataset in zip(models, dataset_parts):\n",
    "    model.fit(dataset[0], dataset[1], epochs=5)\n",
    "    # model.get_weights()\n",
    "    wtarray = model.get_weights()\n",
    "    # wts.append(model.get_weights())\n",
    "    cwt = []\n",
    "    for layer in wtarray:\n",
    "        flat_array = layer.astype(np.float64).flatten()  \n",
    "\n",
    "        chunks = np.array_split(flat_array, (len(flat_array) + 2**10 - 1) // 2**10)\n",
    "        clayer = []\n",
    "        print(len(chunks))\n",
    "        for chunk in chunks:\n",
    "            ptxt = HE.encodeFrac(chunk)\n",
    "            ctxt = HE.encryptPtxt(ptxt)\n",
    "            clayer.append(ctxt)\n",
    "        print(len(clayer))\n",
    "        cwt.append(clayer)\n",
    "    cwts.append(cwt)"
   ]
  },
  {
   "cell_type": "code",
   "execution_count": 51,
   "metadata": {},
   "outputs": [],
   "source": [
    "res = []\n",
    "for j in range(len(cwts[0])):#for layers\n",
    "    layer = []\n",
    "    for k in range(len(cwts[0][j])):# for chunks\n",
    "        tmp = cwts[0][j][k].copy()\n",
    "        for i in range(1 , len(cwts)): #for clients\n",
    "            tmp = tmp + cwts[i][j][k]\n",
    "        tmp = tmp/len(cwts)\n",
    "        layer.append(tmp)\n",
    "    res.append(layer)"
   ]
  },
  {
   "cell_type": "code",
   "execution_count": null,
   "metadata": {},
   "outputs": [],
   "source": []
  },
  {
   "cell_type": "code",
   "execution_count": 54,
   "metadata": {},
   "outputs": [
    {
     "data": {
      "text/plain": [
       "[<Pyfhel Ciphertext at 0x7070fae89cc0, scheme=ckks, size=2/2, scale_bits=60, mod_level=1>]"
      ]
     },
     "execution_count": 54,
     "metadata": {},
     "output_type": "execute_result"
    }
   ],
   "source": [
    "res[1]"
   ]
  },
  {
   "cell_type": "code",
   "execution_count": 11,
   "metadata": {},
   "outputs": [],
   "source": [
    "model = model_init()"
   ]
  },
  {
   "cell_type": "code",
   "execution_count": 12,
   "metadata": {},
   "outputs": [],
   "source": [
    "wts = model.get_weights()"
   ]
  },
  {
   "cell_type": "code",
   "execution_count": 13,
   "metadata": {},
   "outputs": [
    {
     "name": "stdout",
     "output_type": "stream",
     "text": [
      "128 [ 0.04612084  0.00621976  0.02093226  0.07553466 -0.06475656 -0.02738096\n",
      "  0.03957256  0.07681689 -0.03073152  0.000495    0.05674433  0.06710587\n",
      "  0.04723854 -0.02999434  0.06728352 -0.07080525 -0.05492576  0.03444795\n",
      "  0.07058109  0.03419232 -0.02801988 -0.07718219  0.0658543   0.06254558\n",
      " -0.01010962 -0.06199992  0.07691651  0.06381496 -0.03306201  0.04707106\n",
      " -0.00812148 -0.0304095  -0.05652771 -0.05179098  0.02299691  0.02021011\n",
      " -0.01430169  0.01682939  0.03599281  0.04883536 -0.00994213 -0.03305173\n",
      "  0.02341475  0.07644627  0.05962389 -0.02852966  0.04409241 -0.03527503\n",
      " -0.06908529  0.00908931  0.03092042 -0.06849469 -0.07471936 -0.0003303\n",
      "  0.01822687  0.06146234  0.00696314  0.05320413  0.02402794 -0.04019794\n",
      "  0.0522406   0.0513887   0.02972488 -0.02117474 -0.01950202 -0.01380565\n",
      "  0.01530191 -0.0444936   0.06150436 -0.01408558 -0.03226737  0.05069966\n",
      "  0.00220674  0.00228312  0.07616719  0.07787687 -0.04631416  0.05078193\n",
      " -0.01162528  0.04441049 -0.05280068 -0.05408106  0.01042157 -0.04580595\n",
      "  0.04091379 -0.07091612  0.06751546 -0.00215572 -0.03058387  0.05577434\n",
      "  0.05714317  0.01829718 -0.00401301  0.03289834 -0.02305771  0.0799764\n",
      " -0.00845221  0.05465835 -0.06486549 -0.06809609 -0.08100348 -0.02173164\n",
      " -0.05069292  0.0571375  -0.02151453 -0.01032449 -0.02214353  0.07484976\n",
      " -0.0360994   0.03618482 -0.05982106 -0.00535209  0.04708344 -0.05231702\n",
      "  0.04447416 -0.03712957  0.00748278 -0.06738769 -0.01013292  0.05345183\n",
      " -0.03932018  0.06964935  0.03105004  0.00901855 -0.01891758 -0.01713708\n",
      " -0.05203789 -0.06243641]\n"
     ]
    }
   ],
   "source": [
    "print(len(wts[0][0] ) , wts[0][0])"
   ]
  }
 ],
 "metadata": {
  "kernelspec": {
   "display_name": "he38",
   "language": "python",
   "name": "python3"
  },
  "language_info": {
   "codemirror_mode": {
    "name": "ipython",
    "version": 3
   },
   "file_extension": ".py",
   "mimetype": "text/x-python",
   "name": "python",
   "nbconvert_exporter": "python",
   "pygments_lexer": "ipython3",
   "version": "3.9.19"
  }
 },
 "nbformat": 4,
 "nbformat_minor": 2
}
