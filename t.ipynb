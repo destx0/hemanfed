{
 "cells": [
  {
   "cell_type": "code",
   "execution_count": 1,
   "metadata": {},
   "outputs": [],
   "source": [
    "import numpy as np \n",
    "import Pyfhel"
   ]
  },
  {
   "cell_type": "code",
   "execution_count": 4,
   "metadata": {},
   "outputs": [
    {
     "ename": "AttributeError",
     "evalue": "'Pyfhel.Pyfhel.Pyfhel' object has no attribute 'reseed'",
     "output_type": "error",
     "traceback": [
      "\u001b[0;31m---------------------------------------------------------------------------\u001b[0m",
      "\u001b[0;31mAttributeError\u001b[0m                            Traceback (most recent call last)",
      "Cell \u001b[0;32mIn[4], line 16\u001b[0m\n\u001b[1;32m     13\u001b[0m seed \u001b[38;5;241m=\u001b[39m \u001b[38;5;241m1234567890\u001b[39m  \u001b[38;5;66;03m# Set the seed value\u001b[39;00m\n\u001b[1;32m     15\u001b[0m HE\u001b[38;5;241m.\u001b[39mcontextGen(\u001b[38;5;241m*\u001b[39m\u001b[38;5;241m*\u001b[39mckks_params)  \u001b[38;5;66;03m# Generate context for CKKS scheme\u001b[39;00m\n\u001b[0;32m---> 16\u001b[0m \u001b[43mHE\u001b[49m\u001b[38;5;241;43m.\u001b[39;49m\u001b[43mreseed\u001b[49m(seed)  \u001b[38;5;66;03m# Set the seed for key generation\u001b[39;00m\n\u001b[1;32m     17\u001b[0m HE\u001b[38;5;241m.\u001b[39mkeyGen()  \u001b[38;5;66;03m# Key Generation: generates a pair of public/secret keys\u001b[39;00m\n\u001b[1;32m     18\u001b[0m HE\u001b[38;5;241m.\u001b[39mrotateKeyGen()  \u001b[38;5;66;03m# Generate rotation keys for CKKS scheme\u001b[39;00m\n",
      "\u001b[0;31mAttributeError\u001b[0m: 'Pyfhel.Pyfhel.Pyfhel' object has no attribute 'reseed'"
     ]
    }
   ],
   "source": [
    "import numpy as np\n",
    "from Pyfhel import Pyfhel\n",
    "\n",
    "HE = Pyfhel()  # Creating empty Pyfhel object\n",
    "\n",
    "ckks_params = {\n",
    "    \"scheme\": \"CKKS\",\n",
    "    \"n\": 2**14,\n",
    "    \"scale\": 2**30,\n",
    "    \"qi_sizes\": [60, 30, 30, 30, 60],\n",
    "}\n",
    "\n",
    "seed = 1234567890  # Set the seed value\n",
    "\n",
    "HE.contextGen(**ckks_params)  # Generate context for CKKS scheme\n",
    "HE.reseed(seed)  # Set the seed for key generation\n",
    "HE.keyGen()  # Key Generation: generates a pair of public/secret keys\n",
    "HE.rotateKeyGen()  # Generate rotation keys for CKKS scheme\n",
    "\n",
    "# Encryption\n",
    "pt1 = np.array([1.5, 2.3, 3.7, 4.1])\n",
    "ct1 = HE.encryptFrac(pt1)\n",
    "\n",
    "pt2 = np.array([2.1, 3.2, 4.8, 5.6])\n",
    "ct2 = HE.encryptFrac(pt2)\n",
    "\n",
    "# Homomorphic operations\n",
    "ct_add = ct1 + ct2\n",
    "ct_mult = ct1 * ct2\n",
    "\n",
    "# Decryption\n",
    "pt_add = HE.decryptFrac(ct_add)\n",
    "pt_mult = HE.decryptFrac(ct_mult)\n"
   ]
  },
  {
   "cell_type": "code",
   "execution_count": 4,
   "metadata": {},
   "outputs": [],
   "source": [
    "import numpy as np\n",
    "from Pyfhel import Pyfhel\n",
    "\n",
    "HE = Pyfhel()  # Creating empty Pyfhel object\n",
    "ckks_params = {\n",
    "    \"scheme\": \"CKKS\",  # can also be 'ckks'\n",
    "    \"n\": 2**14,  # Polynomial modulus degree. For CKKS, n/2 values can be\n",
    "    #  encoded in a single ciphertext.\n",
    "    #  Typ. 2^D for D in [10, 15]\n",
    "    \"scale\": 2**30,  # All the encodings will use it for float->fixed point\n",
    "    #  conversion: x_fix = round(x_float * scale)\n",
    "    #  You can use this as default scale or use a different\n",
    "    #  scale on each operation (set in HE.encryptFrac)\n",
    "    \"qi_sizes\": [60, 30, 30, 30, 60],  # Number of bits of each prime in the chain.\n",
    "    # Intermediate values should be  close to log2(scale)\n",
    "    # for each operation, to have small rounding errors.\n",
    "}\n",
    "HE.contextGen(**ckks_params)  # Generate context for ckks scheme\n",
    "HE.keyGen()  # Key Generation: generates a pair of public/secret keys\n",
    "HE.rotateKeyGen()"
   ]
  },
  {
   "cell_type": "code",
   "execution_count": 5,
   "metadata": {},
   "outputs": [
    {
     "name": "stdout",
     "output_type": "stream",
     "text": [
      "\n",
      "2. Fixed-point Encoding & Encryption, \n",
      "->\tarr_x  [ 0.1  0.2 -0.3] \n",
      "\t==> ptxt_x  <Pyfhel Plaintext at 0x7f50e00f68c0, scheme=ckks, poly=?, is_ntt=Y, mod_level=0> \n",
      "\t==> ctxt_x  <Pyfhel Ciphertext at 0x7f50e20bd180, scheme=ckks, size=2/2, scale_bits=30, mod_level=0>\n",
      "->\tarr_y  [-1.5  2.3  4.7] \n",
      "\t==> ptxt_y  <Pyfhel Plaintext at 0x7f50e00f9240, scheme=ckks, poly=?, is_ntt=Y, mod_level=0> \n",
      "\t==> ctxt_y  <Pyfhel Ciphertext at 0x7f50e00f21d0, scheme=ckks, size=2/2, scale_bits=30, mod_level=0>\n"
     ]
    }
   ],
   "source": [
    "arr_x = np.array([0.1, 0.2, -0.3], dtype=np.float64)  # Always use type float64!\n",
    "arr_y = np.array([-1.5, 2.3, 4.7], dtype=np.float64)\n",
    "\n",
    "ptxt_x = HE.encodeFrac(arr_x)  # Creates a PyPtxt plaintext with the encoded arr_x\n",
    "ptxt_y = HE.encodeFrac(\n",
    "    arr_y\n",
    ")  # plaintexts created from arrays shorter than 'n' are filled with zeros.\n",
    "\n",
    "ctxt_x = HE.encryptPtxt(ptxt_x)  # Encrypts the plaintext ptxt_x and returns a PyCtxt\n",
    "ctxt_y = HE.encryptPtxt(ptxt_y)  #  Alternatively you can use HE.encryptFrac(arr_y)\n",
    "\n",
    "# Otherwise, a single call to `HE.encrypt` would detect the data type,\n",
    "#  encode it and encrypt it\n",
    "# > ctxt_x = HE.encrypt(arr_x)\n",
    "\n",
    "print(\"\\n2. Fixed-point Encoding & Encryption, \")\n",
    "print(\"->\\tarr_x \", arr_x, \"\\n\\t==> ptxt_x \", ptxt_x, \"\\n\\t==> ctxt_x \", ctxt_x)\n",
    "print(\"->\\tarr_y \", arr_y, \"\\n\\t==> ptxt_y \", ptxt_y, \"\\n\\t==> ctxt_y \", ctxt_y)"
   ]
  },
  {
   "cell_type": "code",
   "execution_count": 6,
   "metadata": {},
   "outputs": [
    {
     "name": "stdout",
     "output_type": "stream",
     "text": [
      "\n",
      "2. Fixed-point Encoding & Encryption, \n",
      "->\tarr_x  [ 0.1  0.2 -0.3] \n",
      "\t==> ptxt_x  <Pyfhel Plaintext at 0x7f50e00f63c0, scheme=ckks, poly=?, is_ntt=Y, mod_level=0> \n",
      "\t==> ctxt_x  <Pyfhel Ciphertext at 0x7f50e2114a90, scheme=ckks, size=2/2, scale_bits=30, mod_level=0>\n",
      "->\tarr_y  [-1.5  2.3  4.7] \n",
      "\t==> ptxt_y  <Pyfhel Plaintext at 0x7f50e00f6500, scheme=ckks, poly=?, is_ntt=Y, mod_level=0> \n",
      "\t==> ctxt_y  <Pyfhel Ciphertext at 0x7f50e20bd180, scheme=ckks, size=2/2, scale_bits=30, mod_level=0>\n"
     ]
    }
   ],
   "source": [
    "arr_x = np.array([0.1, 0.2, -0.3], dtype=np.float64)  # Always use type float64!\n",
    "arr_y = np.array([-1.5, 2.3, 4.7], dtype=np.float64)\n",
    "\n",
    "ptxt_x = HE.encodeFrac(arr_x)  # Creates a PyPtxt plaintext with the encoded arr_x\n",
    "ptxt_y = HE.encodeFrac(\n",
    "    arr_y\n",
    ")  # plaintexts created from arrays shorter than 'n' are filled with zeros.\n",
    "\n",
    "ctxt_x = HE.encryptPtxt(ptxt_x)  # Encrypts the plaintext ptxt_x and returns a PyCtxt\n",
    "ctxt_y = HE.encryptPtxt(ptxt_y)  #  Alternatively you can use HE.encryptFrac(arr_y)\n",
    "\n",
    "# Otherwise, a single call to `HE.encrypt` would detect the data type,\n",
    "#  encode it and encrypt it\n",
    "# > ctxt_x = HE.encrypt(arr_x)\n",
    "\n",
    "print(\"\\n2. Fixed-point Encoding & Encryption, \")\n",
    "print(\"->\\tarr_x \", arr_x, \"\\n\\t==> ptxt_x \", ptxt_x, \"\\n\\t==> ctxt_x \", ctxt_x)\n",
    "print(\"->\\tarr_y \", arr_y, \"\\n\\t==> ptxt_y \", ptxt_y, \"\\n\\t==> ctxt_y \", ctxt_y)"
   ]
  },
  {
   "cell_type": "code",
   "execution_count": 7,
   "metadata": {},
   "outputs": [
    {
     "name": "stdout",
     "output_type": "stream",
     "text": [
      "3. Secure operations\n",
      " Ciphertext-ciphertext: \n",
      "->\tctxt_x + ctxt_y = ccSum:  <Pyfhel Ciphertext at 0x7f50e20ad310, scheme=ckks, size=2/2, scale_bits=30, mod_level=0>\n",
      "->\tctxt_x - ctxt_y = ccSub:  <Pyfhel Ciphertext at 0x7f50e00f2540, scheme=ckks, size=2/2, scale_bits=30, mod_level=0>\n",
      "->\tctxt_x * ctxt_y = ccMul:  <Pyfhel Ciphertext at 0x7f50e00fc590, scheme=ckks, size=3/3, scale_bits=60, mod_level=1>\n",
      " Single ciphertext: \n",
      "->\tctxt_x**2      = cSq  :  <Pyfhel Ciphertext at 0x7f50e00fc5e0, scheme=ckks, size=3/3, scale_bits=60, mod_level=1>\n",
      "->\t- ctxt_x       = cNeg :  <Pyfhel Ciphertext at 0x7f50e211f720, scheme=ckks, size=2/2, scale_bits=30, mod_level=0>\n",
      "->\tctxt_x >> 4    = cRotR:  <Pyfhel Ciphertext at 0x7f50e211f040, scheme=ckks, size=2/2, scale_bits=30, mod_level=0>\n",
      "->\tctxt_x << 4    = cRotL:  <Pyfhel Ciphertext at 0x7f50e20bd540, scheme=ckks, size=2/2, scale_bits=30, mod_level=0>\n",
      " Ciphertext-plaintext: \n",
      "->\tctxt_x + ptxt_y = cpSum:  <Pyfhel Ciphertext at 0x7f50e211f090, scheme=ckks, size=2/2, scale_bits=30, mod_level=0>\n",
      "->\tctxt_x - ptxt_y = cpSub:  <Pyfhel Ciphertext at 0x7f50e211f310, scheme=ckks, size=2/2, scale_bits=30, mod_level=0>\n",
      "->\tctxt_x * ptxt_y = cpMul:  <Pyfhel Ciphertext at 0x7f50e211f0e0, scheme=ckks, size=2/2, scale_bits=60, mod_level=1>\n"
     ]
    }
   ],
   "source": [
    "# Ciphertext-ciphertext ops:\n",
    "ccSum = ctxt_x + ctxt_y  # Calls HE.add(ctxt_x, ctxt_y, in_new_ctxt=True)\n",
    "#  `ctxt_x += ctxt_y` for inplace operation\n",
    "ccSub = ctxt_x - ctxt_y  # Calls HE.sub(ctxt_x, ctxt_y, in_new_ctxt=True)\n",
    "#  `ctxt_x -= ctxt_y` for inplace operation\n",
    "ccMul = ctxt_x * ctxt_y  # Calls HE.multiply(ctxt_x, ctxt_y, in_new_ctxt=True)\n",
    "#  `ctxt_x *= ctxt_y` for inplace operation\n",
    "cSq = ctxt_x**2  # Calls HE.square(ctxt_x, in_new_ctxt=True)\n",
    "#  `ctxt_x **= 2` for inplace operation\n",
    "cNeg = -ctxt_x  # Calls HE.negate(ctxt_x, in_new_ctxt=True)\n",
    "#\n",
    "# cPow  = ctxt_x**3          # pow Not supported in CKKS\n",
    "cRotR = ctxt_x >> 2  # Calls HE.rotate(ctxt_x, k=2, in_new_ctxt=True)\n",
    "#  `ctxt_x >>= 2` for inplace operation\n",
    "cRotL = ctxt_x << 2  # Calls HE.rotate(ctxt_x, k=-2, in_new_ctxt=True)\n",
    "#  `ctxt_x <<= 2` for inplace operation\n",
    "\n",
    "# Ciphetext-plaintext ops\n",
    "cpSum = ctxt_x + ptxt_y  # Calls HE.add_plain(ctxt_x, ptxt_y, in_new_ctxt=True)\n",
    "# `ctxt_x += ctxt_y` for inplace operation\n",
    "cpSub = ctxt_x - ptxt_y  # Calls HE.sub_plain(ctxt_x, ptxt_y, in_new_ctxt=True)\n",
    "# `ctxt_x -= ctxt_y` for inplace operation\n",
    "cpMul = ctxt_x * ptxt_y  # Calls HE.multiply_plain(ctxt_x, ptxt_y, in_new_ctxt=True)\n",
    "# `ctxt_x *= ctxt_y` for inplace operation\n",
    "\n",
    "\n",
    "print(\"3. Secure operations\")\n",
    "print(\" Ciphertext-ciphertext: \")\n",
    "print(\"->\\tctxt_x + ctxt_y = ccSum: \", ccSum)\n",
    "print(\"->\\tctxt_x - ctxt_y = ccSub: \", ccSub)\n",
    "print(\"->\\tctxt_x * ctxt_y = ccMul: \", ccMul)\n",
    "print(\" Single ciphertext: \")\n",
    "print(\"->\\tctxt_x**2      = cSq  : \", cSq)\n",
    "print(\"->\\t- ctxt_x       = cNeg : \", cNeg)\n",
    "print(\"->\\tctxt_x >> 4    = cRotR: \", cRotR)\n",
    "print(\"->\\tctxt_x << 4    = cRotL: \", cRotL)\n",
    "print(\" Ciphertext-plaintext: \")\n",
    "print(\"->\\tctxt_x + ptxt_y = cpSum: \", cpSum)\n",
    "print(\"->\\tctxt_x - ptxt_y = cpSub: \", cpSub)\n",
    "print(\"->\\tctxt_x * ptxt_y = cpMul: \", cpMul)"
   ]
  },
  {
   "cell_type": "code",
   "execution_count": 8,
   "metadata": {},
   "outputs": [
    {
     "name": "stdout",
     "output_type": "stream",
     "text": [
      "\n",
      "4. Relinearization-> Right after each multiplication.\n",
      "ccMul before relinearization (size 3): <Pyfhel Ciphertext at 0x7f50e00fc590, scheme=ckks, size=3/3, scale_bits=60, mod_level=1>\n",
      "ccMul after relinearization (size 2): <Pyfhel Ciphertext at 0x7f50e00fc590, scheme=ckks, size=2/3, scale_bits=60, mod_level=1>\n"
     ]
    }
   ],
   "source": [
    "print(\"\\n4. Relinearization-> Right after each multiplication.\")\n",
    "print(f\"ccMul before relinearization (size {ccMul.size()}): {ccMul}\")\n",
    "HE.relinKeyGen()\n",
    "~ccMul  # Equivalent to HE.relinearize(ccMul). Relin always happens in-place.\n",
    "print(f\"ccMul after relinearization (size {ccMul.size()}): {ccMul}\")"
   ]
  },
  {
   "cell_type": "code",
   "execution_count": 9,
   "metadata": {},
   "outputs": [
    {
     "name": "stdout",
     "output_type": "stream",
     "text": [
      "\n",
      "5. Rescaling & Mod Switching.\n",
      "->\tMean:  <Pyfhel Ciphertext at 0x7f50e0141db0, scheme=ckks, size=2/2, scale_bits=60, mod_level=1>\n",
      "->\tMSE_1:  <Pyfhel Ciphertext at 0x7f50e00f2a40, scheme=ckks, size=2/3, scale_bits=60, mod_level=2>\n",
      "->\tMSE_2:  <Pyfhel Ciphertext at 0x7f50e00dfae0, scheme=ckks, size=2/3, scale_bits=60, mod_level=2>\n",
      "->\tMSE:  <Pyfhel Ciphertext at 0x7f50e20ad0e0, scheme=ckks, size=2/3, scale_bits=60, mod_level=3>\n"
     ]
    }
   ],
   "source": [
    "#  1. Mean\n",
    "c_mean = (ctxt_x + ctxt_y) / 2\n",
    "#  2. MSE\n",
    "c_mse_1 = ~((ctxt_x - c_mean) ** 2)\n",
    "c_mse_2 = ~((ctxt_y - c_mean) ** 2)\n",
    "c_mse = (c_mse_1 + c_mse_2) / 3\n",
    "#  3. Cumulative sum\n",
    "c_mse += c_mse << 1\n",
    "c_mse += c_mse << 2  # element 0 contains the result\n",
    "print(\"\\n5. Rescaling & Mod Switching.\")\n",
    "print(\"->\\tMean: \", c_mean)\n",
    "print(\"->\\tMSE_1: \", c_mse_1)\n",
    "print(\"->\\tMSE_2: \", c_mse_2)\n",
    "print(\"->\\tMSE: \", c_mse)"
   ]
  },
  {
   "cell_type": "code",
   "execution_count": 10,
   "metadata": {},
   "outputs": [
    {
     "name": "stdout",
     "output_type": "stream",
     "text": [
      "6. Decrypting results\n",
      " Original ciphertexts: \n",
      "   ->\tctxt_x --(decr)-->  [ 0.1  0.2 -0.3 ... -0.  -0.  -0. ]\n",
      "   ->\tctxt_y --(decr)-->  [-1.5  2.3  4.7 ...  0.   0.  -0. ]\n",
      " Ciphertext-ciphertext Ops: \n",
      "   ->\tctxt_x + ctxt_y = ccSum --(decr)-->  [-1.4  2.5  4.4 ... -0.   0.  -0. ]\n",
      "   ->\tctxt_x - ctxt_y = ccSub --(decr)-->  [ 1.6 -2.1 -5.  ... -0.  -0.  -0. ]\n",
      "   ->\tctxt_x * ctxt_y = ccMul --(decr)-->  [-0.15  0.46 -1.41 ... -0.   -0.    0.  ]\n",
      " Single ciphertext: \n",
      "   ->\tctxt_x**2      = cSq   --(decr)-->  [ 0.01  0.04  0.09 ...  0.   -0.    0.  ]\n",
      "   ->\t- ctxt_x       = cNeg  --(decr)-->  [-0.1 -0.2  0.3 ...  0.   0.   0. ]\n",
      "   ->\tctxt_x >> 4    = cRotR --(decr)-->  [ 0.002 -0.     0.1   ...  0.     0.     0.   ]\n",
      "   ->\tctxt_x << 4    = cRotL --(decr)-->  [-0.299  0.    -0.    ...  0.     0.1    0.2  ]\n",
      " Ciphertext-plaintext ops: \n",
      "   ->\tctxt_x + ptxt_y = cpSum --(decr)-->  [-1.4  2.5  4.4 ... -0.  -0.  -0. ]\n",
      "   ->\tctxt_x - ptxt_y = cpSub --(decr)-->  [ 1.6 -2.1 -5.  ... -0.  -0.  -0. ]\n",
      "   ->\tctxt_x * ptxt_y = cpMul --(decr)-->  [-0.15  0.46 -1.41 ...  0.    0.    0.  ]\n",
      " Mean Squared error: \n",
      "   ->\tmean(ctxt_x, ctxt_y) = c_mean --(decr)-->  [-0.7   1.25  2.2  ... -0.    0.   -0.  ]\n",
      "   ->\tmse(ctxt_x, ctxt_y)  = c_mse  --(decr)-->  [5.33  4.903 4.168 ... 0.427 1.162 5.33 ]\n"
     ]
    }
   ],
   "source": [
    "r_x = HE.decryptFrac(ctxt_x)\n",
    "r_y = HE.decryptFrac(ctxt_y)\n",
    "rccSum = HE.decryptFrac(ccSum)\n",
    "rccSub = HE.decryptFrac(ccSub)\n",
    "rccMul = HE.decryptFrac(ccMul)\n",
    "rcSq = HE.decryptFrac(cSq)\n",
    "rcNeg = HE.decryptFrac(cNeg)\n",
    "rcRotR = HE.decryptFrac(cRotR)\n",
    "rcRotL = HE.decryptFrac(cRotL)\n",
    "rcpSum = HE.decryptFrac(cpSum)\n",
    "rcpSub = HE.decryptFrac(cpSub)\n",
    "rcpMul = HE.decryptFrac(cpMul)\n",
    "rmean = HE.decryptFrac(c_mean)\n",
    "rmse = HE.decryptFrac(c_mse)\n",
    "\n",
    "# Note: results are approximate! if you increase the decimals, you will notice\n",
    "#  the errors\n",
    "_r = lambda x: np.round(x, decimals=3)\n",
    "print(\"6. Decrypting results\")\n",
    "print(\" Original ciphertexts: \")\n",
    "print(\"   ->\\tctxt_x --(decr)--> \", _r(r_x))\n",
    "print(\"   ->\\tctxt_y --(decr)--> \", _r(r_y))\n",
    "print(\" Ciphertext-ciphertext Ops: \")\n",
    "print(\"   ->\\tctxt_x + ctxt_y = ccSum --(decr)--> \", _r(rccSum))\n",
    "print(\"   ->\\tctxt_x - ctxt_y = ccSub --(decr)--> \", _r(rccSub))\n",
    "print(\"   ->\\tctxt_x * ctxt_y = ccMul --(decr)--> \", _r(rccMul))\n",
    "print(\" Single ciphertext: \")\n",
    "print(\"   ->\\tctxt_x**2      = cSq   --(decr)--> \", _r(rcSq))\n",
    "print(\"   ->\\t- ctxt_x       = cNeg  --(decr)--> \", _r(rcNeg))\n",
    "print(\"   ->\\tctxt_x >> 4    = cRotR --(decr)--> \", _r(rcRotR))\n",
    "print(\"   ->\\tctxt_x << 4    = cRotL --(decr)--> \", _r(rcRotL))\n",
    "print(\" Ciphertext-plaintext ops: \")\n",
    "print(\"   ->\\tctxt_x + ptxt_y = cpSum --(decr)--> \", _r(rcpSum))\n",
    "print(\"   ->\\tctxt_x - ptxt_y = cpSub --(decr)--> \", _r(rcpSub))\n",
    "print(\"   ->\\tctxt_x * ptxt_y = cpMul --(decr)--> \", _r(rcpMul))\n",
    "print(\" Mean Squared error: \")\n",
    "print(\"   ->\\tmean(ctxt_x, ctxt_y) = c_mean --(decr)--> \", _r(rmean))\n",
    "print(\"   ->\\tmse(ctxt_x, ctxt_y)  = c_mse  --(decr)--> \", _r(rmse))"
   ]
  }
 ],
 "metadata": {
  "kernelspec": {
   "display_name": "he39",
   "language": "python",
   "name": "python3"
  },
  "language_info": {
   "codemirror_mode": {
    "name": "ipython",
    "version": 3
   },
   "file_extension": ".py",
   "mimetype": "text/x-python",
   "name": "python",
   "nbconvert_exporter": "python",
   "pygments_lexer": "ipython3",
   "version": "3.9.19"
  }
 },
 "nbformat": 4,
 "nbformat_minor": 2
}
